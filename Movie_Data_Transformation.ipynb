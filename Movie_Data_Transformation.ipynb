{
 "cells": [
  {
   "cell_type": "code",
   "execution_count": 0,
   "metadata": {
    "application/vnd.databricks.v1+cell": {
     "cellMetadata": {
      "byteLimit": 2048000,
      "rowLimit": 10000
     },
     "inputWidgets": {},
     "nuid": "3a17d53e-d15c-4cdf-9484-e4d0682c30a4",
     "showTitle": false,
     "title": ""
    }
   },
   "outputs": [
    {
     "output_type": "stream",
     "name": "stdout",
     "output_type": "stream",
     "text": [
      "/mnt/movieLens/ has been unmounted.\n"
     ]
    },
    {
     "output_type": "execute_result",
     "data": {
      "text/plain": [
       "[FileInfo(path='dbfs:/mnt/movieLens/movie_related_information/genome-scores.parquet', name='genome-scores.parquet', size=72309528, modificationTime=1711275446000),\n",
       " FileInfo(path='dbfs:/mnt/movieLens/movie_related_information/genome-tags.parquet', name='genome-tags.parquet', size=16314, modificationTime=1711275296000),\n",
       " FileInfo(path='dbfs:/mnt/movieLens/movie_related_information/links.parquet', name='links.parquet', size=1138717, modificationTime=1711275248000),\n",
       " FileInfo(path='dbfs:/mnt/movieLens/movie_related_information/movies.parquet', name='movies.parquet', size=1745860, modificationTime=1711275295000),\n",
       " FileInfo(path='dbfs:/mnt/movieLens/movie_related_information/ratings.parquet', name='ratings.parquet', size=425618265, modificationTime=1711275635000),\n",
       " FileInfo(path='dbfs:/mnt/movieLens/movie_related_information/tags.parquet', name='tags.parquet', size=19641860, modificationTime=1711275293000)]"
      ]
     },
     "execution_count": 44,
     "metadata": {},
     "output_type": "execute_result"
    }
   ],
   "source": [
    "\n",
    "dbutils.fs.unmount(\"/mnt/movieLens/\")\n",
    "configs = {\"fs.azure.account.auth.type\": \"OAuth\",\n",
    "          \"fs.azure.account.oauth.provider.type\": \"org.apache.hadoop.fs.azurebfs.oauth2.ClientCredsTokenProvider\",\n",
    "          \"fs.azure.account.oauth2.client.id\": \"ff63fa47-78e9-47ca-b9bb-0f08b411e5f6\",\n",
    "          \"fs.azure.account.oauth2.client.secret\": dbutils.secrets.get(scope=\"app-secret\",key=\"service-principle-secret\"),\n",
    "          \"fs.azure.account.oauth2.client.endpoint\": \"https://login.microsoftonline.com/7f77ffeb-3a63-436d-85f5-46b045efa8d7/oauth2/token\"}\n",
    "\n",
    "dbutils.fs.mount(\n",
    "  source = \"abfss://landingarea@mrdlsg2.dfs.core.windows.net/\",\n",
    "  mount_point = \"/mnt/movieLens/\",\n",
    "  extra_configs = configs)\n",
    "\n",
    "dbutils.fs.ls(\"/mnt/movieLens/movie_related_information\")\n",
    "\n"
   ]
  },
  {
   "cell_type": "code",
   "execution_count": 0,
   "metadata": {
    "application/vnd.databricks.v1+cell": {
     "cellMetadata": {
      "byteLimit": 2048000,
      "rowLimit": 10000
     },
     "inputWidgets": {},
     "nuid": "b8a36117-e764-49dd-9112-3e3192b0555e",
     "showTitle": false,
     "title": ""
    }
   },
   "outputs": [],
   "source": [
    "\n",
    "\n",
    "genomeScores = spark.read.option(\"header\",\"true\").option(\"inferSchema\",\"true\").parquet(\"/mnt/movieLens/movie_related_information/genome-scores.parquet\")\n",
    "genomeTags = spark.read.option(\"header\",\"true\").parquet(\"/mnt/movieLens/movie_related_information/genome-tags.parquet\")\n",
    "links = spark.read.option(\"header\",\"true\").parquet(\"/mnt/movieLens/movie_related_information/links.parquet\")\n",
    "movies = spark.read.option(\"header\",\"true\").option(\"inferSchema\",\"true\").parquet(\"/mnt/movieLens/movie_related_information/movies.parquet\")\n",
    "ratings = spark.read.option(\"header\",\"true\").parquet(\"/mnt/movieLens/movie_related_information/ratings.parquet\")\n",
    "tags = spark.read.option(\"header\",\"true\").parquet(\"/mnt/movieLens/movie_related_information/tags.parquet\")\n",
    "\n",
    "\n",
    "\n"
   ]
  },
  {
   "cell_type": "code",
   "execution_count": 0,
   "metadata": {
    "application/vnd.databricks.v1+cell": {
     "cellMetadata": {
      "byteLimit": 2048000,
      "rowLimit": 10000
     },
     "inputWidgets": {},
     "nuid": "d16a2c7c-15c8-4ca6-8663-e54270829a8b",
     "showTitle": false,
     "title": ""
    }
   },
   "outputs": [
    {
     "output_type": "stream",
     "name": "stdout",
     "output_type": "stream",
     "text": [
      "root\n |-- movieId: string (nullable = true)\n |-- title: string (nullable = true)\n |-- genres: string (nullable = true)\n\nroot\n |-- movieId: integer (nullable = true)\n |-- title: string (nullable = true)\n |-- genres: string (nullable = true)\n\n"
     ]
    }
   ],
   "source": [
    "from pyspark.sql.functions import col\n",
    "from pyspark.sql.types import IntegerType,DoubleType,TimestampNTZType\n",
    "\n",
    "movies.printSchema()\n",
    "\n",
    "movies=movies.withColumn(\"movieId\",col(\"movieId\").cast(IntegerType()))\n",
    "\n",
    "movies.printSchema()\n",
    "\n",
    "\n"
   ]
  },
  {
   "cell_type": "code",
   "execution_count": 0,
   "metadata": {
    "application/vnd.databricks.v1+cell": {
     "cellMetadata": {
      "byteLimit": 2048000,
      "rowLimit": 10000
     },
     "inputWidgets": {},
     "nuid": "34f3b21e-58cf-4c50-b405-61abc1674510",
     "showTitle": false,
     "title": ""
    }
   },
   "outputs": [
    {
     "output_type": "stream",
     "name": "stdout",
     "output_type": "stream",
     "text": [
      "root\n |-- userId: string (nullable = true)\n |-- movieId: string (nullable = true)\n |-- rating: string (nullable = true)\n |-- timestamp: string (nullable = true)\n\nroot\n |-- userId: integer (nullable = true)\n |-- movieId: integer (nullable = true)\n |-- rating: double (nullable = true)\n |-- timestamp: string (nullable = true)\n\n"
     ]
    }
   ],
   "source": [
    "ratings.printSchema()\n",
    "\n",
    "ratings=ratings.withColumn(\"userId\",col(\"userId\").cast(IntegerType()))\\\n",
    "        .withColumn(\"movieId\",col(\"movieId\").cast(IntegerType()))\\\n",
    "        .withColumn(\"rating\",col(\"rating\").cast(DoubleType()))\n",
    "\n",
    "ratings.printSchema()"
   ]
  },
  {
   "cell_type": "code",
   "execution_count": 0,
   "metadata": {
    "application/vnd.databricks.v1+cell": {
     "cellMetadata": {
      "byteLimit": 2048000,
      "rowLimit": 10000
     },
     "inputWidgets": {},
     "nuid": "efe36c82-3da6-4344-a7a0-1ddccc28649d",
     "showTitle": false,
     "title": ""
    }
   },
   "outputs": [
    {
     "output_type": "stream",
     "name": "stdout",
     "output_type": "stream",
     "text": [
      "root\n |-- tagId: string (nullable = true)\n |-- tag: string (nullable = true)\n\nroot\n |-- tagId: integer (nullable = true)\n |-- tag: string (nullable = true)\n\n"
     ]
    }
   ],
   "source": [
    "genomeTags.printSchema()\n",
    "\n",
    "genomeTags=genomeTags.withColumn(\"tagId\",col(\"tagId\").cast(IntegerType()))\n",
    "\n",
    "genomeTags.printSchema()"
   ]
  },
  {
   "cell_type": "code",
   "execution_count": 0,
   "metadata": {
    "application/vnd.databricks.v1+cell": {
     "cellMetadata": {
      "byteLimit": 2048000,
      "rowLimit": 10000
     },
     "inputWidgets": {},
     "nuid": "2ad6f283-a7b9-44d6-81cf-a61908e79e20",
     "showTitle": false,
     "title": ""
    }
   },
   "outputs": [
    {
     "output_type": "stream",
     "name": "stdout",
     "output_type": "stream",
     "text": [
      "root\n |-- movieId: string (nullable = true)\n |-- tagId: string (nullable = true)\n |-- relevance: string (nullable = true)\n\nroot\n |-- movieId: integer (nullable = true)\n |-- tagId: integer (nullable = true)\n |-- relevance: string (nullable = true)\n\n"
     ]
    }
   ],
   "source": [
    "genomeScores.printSchema()\n",
    "\n",
    "genomeScores=genomeScores.withColumn(\"movieId\",col(\"movieId\").cast(IntegerType()))\\\n",
    "        .withColumn(\"tagId\",col(\"tagId\").cast(IntegerType()))\n",
    "\n",
    "genomeScores.printSchema()"
   ]
  },
  {
   "cell_type": "code",
   "execution_count": 0,
   "metadata": {
    "application/vnd.databricks.v1+cell": {
     "cellMetadata": {
      "byteLimit": 2048000,
      "rowLimit": 10000
     },
     "inputWidgets": {},
     "nuid": "6da4e6f7-5db3-40ef-9eec-3c21b30bd350",
     "showTitle": false,
     "title": ""
    }
   },
   "outputs": [
    {
     "output_type": "stream",
     "name": "stdout",
     "output_type": "stream",
     "text": [
      "root\n |-- userId: string (nullable = true)\n |-- movieId: string (nullable = true)\n |-- tag: string (nullable = true)\n |-- timestamp: string (nullable = true)\n\nroot\n |-- userId: integer (nullable = true)\n |-- movieId: integer (nullable = true)\n |-- tag: string (nullable = true)\n |-- timestamp: string (nullable = true)\n\n"
     ]
    }
   ],
   "source": [
    "tags.printSchema()\n",
    "\n",
    "tags=tags.withColumn(\"movieId\",col(\"movieId\").cast(IntegerType()))\\\n",
    "        .withColumn(\"userId\",col(\"userId\").cast(IntegerType()))\n",
    "\n",
    "tags.printSchema()"
   ]
  },
  {
   "cell_type": "code",
   "execution_count": 0,
   "metadata": {
    "application/vnd.databricks.v1+cell": {
     "cellMetadata": {
      "byteLimit": 2048000,
      "rowLimit": 10000
     },
     "inputWidgets": {},
     "nuid": "0fbd433d-411a-438a-acd3-dd3783dfc801",
     "showTitle": false,
     "title": ""
    }
   },
   "outputs": [],
   "source": [
    "sqlstr = \"create database if not exists movie_lens\"\n",
    "spark.sql(sqlstr)\n",
    "\n",
    "genomeScores.write.mode(\"overwrite\").option(\"overwriteSchema\", \"true\").saveAsTable(\"movie_lens.genomeScores\")\n",
    "genomeTags.write.mode(\"overwrite\").option(\"overwriteSchema\", \"true\").saveAsTable(\"movie_lens.genomeTags\")\n",
    "links.write.mode(\"overwrite\").option(\"overwriteSchema\", \"true\").saveAsTable(\"movie_lens.links\")\n",
    "movies.write.mode(\"overwrite\").option(\"overwriteSchema\", \"true\").saveAsTable(\"movie_lens.movies\")\n",
    "ratings.write.mode(\"overwrite\").option(\"overwriteSchema\", \"true\").saveAsTable(\"movie_lens.ratings\")\n",
    "tags.write.mode(\"overwrite\").option(\"overwriteSchema\", \"true\").saveAsTable(\"movie_lens.tags\")"
   ]
  },
  {
   "cell_type": "code",
   "execution_count": 0,
   "metadata": {
    "application/vnd.databricks.v1+cell": {
     "cellMetadata": {
      "byteLimit": 2048000,
      "rowLimit": 10000
     },
     "inputWidgets": {},
     "nuid": "4700da73-592e-44a8-8de3-6e0103fcfe4c",
     "showTitle": false,
     "title": ""
    }
   },
   "outputs": [
    {
     "output_type": "stream",
     "name": "stdout",
     "output_type": "stream",
     "text": [
      "+-------+---------+------------------+\n|movieId|tot_count|        avg_rating|\n+-------+---------+------------------+\n|    148|      335| 2.908955223880597|\n|   1088|    11935|  3.25002094679514|\n|  68135|     2676| 3.062219730941704|\n|   3175|    14659|3.6077836141619484|\n|   1645|    13496| 3.547347362181387|\n+-------+---------+------------------+\nonly showing top 5 rows\n\n0.5\n+-------+--------------------+---------+----------+\n|movieId|               title|tot_count|avg_rating|\n+-------+--------------------+---------+----------+\n| 205371|Black Sabbath: Th...|        1|       0.5|\n| 155959|White Bondage (1937)|        1|       0.5|\n| 202437|    The Climb (2019)|        2|       0.5|\n+-------+--------------------+---------+----------+\nonly showing top 3 rows\n\n5.0\n+-------+--------------------+---------+----------+\n|movieId|               title|tot_count|avg_rating|\n+-------+--------------------+---------+----------+\n| 167666|The Capture of th...|        1|       5.0|\n| 164278|Going Attractions...|        2|       5.0|\n| 201981|Little House: Loo...|        1|       5.0|\n+-------+--------------------+---------+----------+\nonly showing top 3 rows\n\n"
     ]
    }
   ],
   "source": [
    "import pyspark.sql.functions as sf\n",
    "\n",
    "mean_ratings = ratings.groupBy(\"movieId\").agg(sf.count(\"*\").alias(\"tot_count\"),sf.avg(\"rating\").alias(\"avg_rating\"))\n",
    "mean_ratings.show(5)\n",
    "mean_ratings_nm = mean_ratings.join(movies,\"movieId\").select(\"movieId\",\"title\",\"tot_count\",\"avg_rating\")\n",
    "\n",
    "min_rating = mean_ratings_nm.agg(sf.min(\"avg_rating\")).collect()[0][\"min(avg_rating)\"]\n",
    "print(min_rating)\n",
    "mean_ratings_nm.select(\"*\").filter(mean_ratings_nm.avg_rating==min_rating).show(3)\n",
    "\n",
    "max_rating = mean_ratings_nm.agg(sf.max(\"avg_rating\")).collect()[0][\"max(avg_rating)\"]\n",
    "print(max_rating)\n",
    "mean_ratings_nm.select(\"*\").filter(mean_ratings_nm.avg_rating==max_rating).show(3)\n",
    "\n",
    "\n"
   ]
  },
  {
   "cell_type": "code",
   "execution_count": 0,
   "metadata": {
    "application/vnd.databricks.v1+cell": {
     "cellMetadata": {
      "byteLimit": 2048000,
      "rowLimit": 10000
     },
     "inputWidgets": {},
     "nuid": "2a25a431-34dd-4d2d-931d-f068757fe39e",
     "showTitle": false,
     "title": ""
    }
   },
   "outputs": [
    {
     "output_type": "stream",
     "name": "stdout",
     "output_type": "stream",
     "text": [
      "423.3931444442563\n3.071373920951132\n"
     ]
    },
    {
     "output_type": "stream",
     "name": "stderr",
     "output_type": "stream",
     "text": [
      "/databricks/spark/python/pyspark/sql/pandas/functions.py:404: UserWarning: In Python 3.6+ and Spark 3.0+, it is preferred to specify type hints for pandas UDF instead of specifying pandas UDF type which will be deprecated in the future releases. See SPARK-28264 for more details.\n  warnings.warn(\n"
     ]
    }
   ],
   "source": [
    "from pyspark.sql import functions as sf\n",
    "from pyspark.sql.functions import pandas_udf, PandasUDFType\n",
    "\n",
    "tot_avg_cnt = mean_ratings_nm.agg(sf.avg(\"tot_count\")).collect()[0][\"avg(tot_count)\"]\n",
    "print(tot_avg_cnt)\n",
    "\n",
    "tot_avg_rat = mean_ratings_nm.agg(sf.avg(\"avg_rating\")).collect()[0][\"avg(avg_rating)\"]\n",
    "print(tot_avg_rat)\n",
    "\n",
    "@pandas_udf('double', PandasUDFType.GROUPED_AGG)  \n",
    "def Bayesian_avg(rating):\n",
    "    return (float)(tot_avg_cnt*tot_avg_rat+rating.sum())/(tot_avg_cnt+rating.count())\n",
    "\n",
    "bay_avg_ratings = ratings.groupBy(\"movieId\").agg(Bayesian_avg(ratings.rating).alias(\"bay_rating\"))"
   ]
  },
  {
   "cell_type": "code",
   "execution_count": 0,
   "metadata": {
    "application/vnd.databricks.v1+cell": {
     "cellMetadata": {
      "byteLimit": 2048000,
      "rowLimit": 10000
     },
     "inputWidgets": {},
     "nuid": "98f0e424-81e8-458b-bb9e-21aa67bcad1c",
     "showTitle": false,
     "title": ""
    }
   },
   "outputs": [
    {
     "output_type": "stream",
     "name": "stdout",
     "output_type": "stream",
     "text": [
      "1.7131155745651407\n+-------+--------------------+------------------+-------------+\n|movieId|               title|        bay_rating|       genres|\n+-------+--------------------+------------------+-------------+\n|   3593|Battlefield Earth...|1.7131155745651407|Action|Sci-Fi|\n+-------+--------------------+------------------+-------------+\n\n4.406637765911728\n+-------+--------------------+-----------------+-----------+\n|movieId|               title|       bay_rating|     genres|\n+-------+--------------------+-----------------+-----------+\n|    318|Shawshank Redempt...|4.406637765911728|Crime|Drama|\n+-------+--------------------+-----------------+-----------+\n\n+-------+--------------------+-----------------+--------------------+\n|movieId|               title|       bay_rating|              genres|\n+-------+--------------------+-----------------+--------------------+\n|    318|Shawshank Redempt...|4.406637765911728|         Crime|Drama|\n|    858|Godfather, The (1...|4.314311946380134|         Crime|Drama|\n|     50|Usual Suspects, T...|4.275147751556197|Crime|Mystery|Thr...|\n|   1221|Godfather: Part I...|4.247196813161273|         Crime|Drama|\n|    527|Schindler's List ...|4.239392970515866|           Drama|War|\n+-------+--------------------+-----------------+--------------------+\nonly showing top 5 rows\n\n+-------+--------------------+------------------+--------------------+\n|movieId|               title|        bay_rating|              genres|\n+-------+--------------------+------------------+--------------------+\n|   3593|Battlefield Earth...|1.7131155745651407|       Action|Sci-Fi|\n|   4775|      Glitter (2001)|1.8797249622069256|Drama|Musical|Rom...|\n|   6587|        Gigli (2003)|1.8798980446092954|Comedy|Crime|Romance|\n|  50798|   Epic Movie (2007)|1.8834424187352352|    Adventure|Comedy|\n|  31698|Son of the Mask (...|1.9693413130298505|Adventure|Childre...|\n+-------+--------------------+------------------+--------------------+\nonly showing top 5 rows\n\n"
     ]
    }
   ],
   "source": [
    "bay_avg_ratings_nm = bay_avg_ratings.join(movies,\"movieId\").select(\"movieId\",\"title\",\"bay_rating\",\"genres\")\n",
    "\n",
    "min_rating = bay_avg_ratings_nm.agg(sf.min(\"bay_rating\")).collect()[0][\"min(bay_rating)\"]\n",
    "print(min_rating)\n",
    "bay_avg_ratings_nm.select(\"*\").filter(bay_avg_ratings_nm.bay_rating==min_rating).show(3)\n",
    "\n",
    "max_rating = bay_avg_ratings_nm.agg(sf.max(\"bay_rating\")).collect()[0][\"max(bay_rating)\"]\n",
    "print(max_rating)\n",
    "bay_avg_ratings_nm.select(\"*\").filter(bay_avg_ratings_nm.bay_rating==max_rating).show(3)\n",
    "\n",
    "bay_avg_ratings_nm.sort(\"bay_rating\", ascending=False).show(5)\n",
    "\n",
    "bay_avg_ratings_nm.sort(\"bay_rating\", ascending=True).show(5)"
   ]
  },
  {
   "cell_type": "code",
   "execution_count": 0,
   "metadata": {
    "application/vnd.databricks.v1+cell": {
     "cellMetadata": {
      "byteLimit": 2048000,
      "rowLimit": 10000
     },
     "inputWidgets": {},
     "nuid": "916e2eab-7657-428f-bc82-1156d8ef5798",
     "showTitle": false,
     "title": ""
    }
   },
   "outputs": [
    {
     "output_type": "stream",
     "name": "stdout",
     "output_type": "stream",
     "text": [
      "+-------+--------------------+------------------+--------------------+\n|movieId|               title|        bay_rating|          genres_arr|\n+-------+--------------------+------------------+--------------------+\n|      1|    Toy Story (1995)| 3.887677029091847|[Adventure, Anima...|\n|     12|Dracula: Dead and...| 2.669992547891253|    [Comedy, Horror]|\n|     22|      Copycat (1995)|  3.30911984472808|[Crime, Drama, Ho...|\n|     26|      Othello (1995)| 3.530454469581147|             [Drama]|\n|     27| Now and Then (1995)|3.3335440489165347|   [Children, Drama]|\n+-------+--------------------+------------------+--------------------+\nonly showing top 5 rows\n\n+------------------+---------+\n|             genre|movie_cnt|\n+------------------+---------+\n|             Drama|    24465|\n|            Comedy|    16051|\n|          Thriller|     8330|\n|           Romance|     7305|\n|            Action|     6913|\n|            Horror|     5746|\n|       Documentary|     5453|\n|             Crime|     5024|\n|(no genres listed)|     4568|\n|         Adventure|     3868|\n|            Sci-Fi|     3502|\n|         Animation|     2911|\n|          Children|     2866|\n|           Mystery|     2782|\n|           Fantasy|     2667|\n|               War|     1770|\n|           Western|     1156|\n|           Musical|     1017|\n|         Film-Noir|      349|\n|              IMAX|      195|\n+------------------+---------+\n\n+-------+--------------------+------------------+--------------------+\n|movieId|               title|        bay_rating|          genres_arr|\n+-------+--------------------+------------------+--------------------+\n|      1|    Toy Story (1995)| 3.887677029091847|[Adventure, Anima...|\n|     12|Dracula: Dead and...| 2.669992547891253|    [Comedy, Horror]|\n|     22|      Copycat (1995)|  3.30911984472808|[Crime, Drama, Ho...|\n|     26|      Othello (1995)| 3.530454469581147|             [Drama]|\n|     27| Now and Then (1995)|3.3335440489165347|   [Children, Drama]|\n+-------+--------------------+------------------+--------------------+\nonly showing top 5 rows\n\n"
     ]
    }
   ],
   "source": [
    "bay_avg_ratings_gn = bay_avg_ratings_nm.select(\"movieId\",\"title\",\"bay_rating\",sf.split(col(\"genres\"),'\\|').alias(\"genres_arr\"))\n",
    "bay_avg_ratings_gn.show(5)\n",
    "\n",
    "genre_count = bay_avg_ratings_gn.select(\"movieId\",\"title\",\"bay_rating\",sf.explode(\"genres_arr\").alias(\"genre\")).groupBy(\"genre\").agg(sf.count(\"*\").alias(\"movie_cnt\")).sort(\"movie_cnt\", ascending=False)\n",
    "genre_count.show()\n",
    "\n",
    "bay_avg_ratings_gn.select(\"title\",\"bay_rating\",\"genres_arr\").filter(sf.array_contains(bay_avg_ratings_gn.genres_arr, \"Thriller\")).sort(\"bay_rating\", ascending=False).show(5)\n",
    "\n"
   ]
  },
  {
   "cell_type": "code",
   "execution_count": 0,
   "metadata": {
    "application/vnd.databricks.v1+cell": {
     "cellMetadata": {
      "byteLimit": 2048000,
      "rowLimit": 10000
     },
     "inputWidgets": {},
     "nuid": "e4a6ef50-b9ba-46fd-9928-2a06b9d554a0",
     "showTitle": false,
     "title": ""
    }
   },
   "outputs": [],
   "source": [
    "dbutils.fs.ls(\"/mnt/movieLens/\")\n",
    "\n",
    "bay_avg_ratings_gn.write.mode(\"overwrite\").option(\"header\",\"true\").parquet(\"/mnt/movieLens/transformed_data/Bayesian_avg_ratings_genre\")\n",
    "genre_count.write.mode(\"overwrite\").option(\"header\",\"true\").parquet(\"/mnt/movieLens/transformed_data/genre_count\")\n",
    "bay_avg_ratings_nm.write.mode(\"overwrite\").option(\"header\",\"true\").parquet(\"/mnt/movieLens/transformed_data/Bayesian_avg_ratings_movie\")\n",
    "#dbutils.fs.ls(\"/mnt/movieLens/transformed_data/\")\n",
    "\n",
    "#dbutils. fs. refreshMounts()"
   ]
  },
  {
   "cell_type": "code",
   "execution_count": 0,
   "metadata": {
    "application/vnd.databricks.v1+cell": {
     "cellMetadata": {
      "byteLimit": 2048000,
      "rowLimit": 10000
     },
     "inputWidgets": {},
     "nuid": "28289d0a-fa33-49bb-8e56-a255dcf0f1b0",
     "showTitle": false,
     "title": ""
    }
   },
   "outputs": [
    {
     "output_type": "stream",
     "name": "stdout",
     "output_type": "stream",
     "text": [
      "+------+-------+--------------+----------+\n|userId|movieId|           tag| timestamp|\n+------+-------+--------------+----------+\n|145919|    551|       musical|1312330643|\n| 14116|     89|child in peril|1309883418|\n|  6550| 146992|     virginity|1527140669|\n+------+-------+--------------+----------+\nonly showing top 3 rows\n\n+-------+-----+--------------------+\n|movieId|tagId|           relevance|\n+-------+-----+--------------------+\n|    621|  538| 0.04425000000000001|\n|    923|  215|  0.9039999999999999|\n|   6659| 1058|0.034499999999999975|\n+-------+-----+--------------------+\nonly showing top 3 rows\n\n+-----+-----------------+\n|tagId|              tag|\n+-----+-----------------+\n|  356|entirely dialogue|\n|    2|     007 (series)|\n|  263|  courtroom drama|\n+-----+-----------------+\nonly showing top 3 rows\n\n"
     ]
    }
   ],
   "source": [
    "tags.show(3)\n",
    "genomeScores.show(3)\n",
    "genomeTags.show(3)"
   ]
  },
  {
   "cell_type": "code",
   "execution_count": 0,
   "metadata": {
    "application/vnd.databricks.v1+cell": {
     "cellMetadata": {
      "byteLimit": 2048000,
      "rowLimit": 10000
     },
     "inputWidgets": {},
     "nuid": "4962192b-62c8-451e-a56d-eaab212545b3",
     "showTitle": false,
     "title": ""
    }
   },
   "outputs": [
    {
     "output_type": "stream",
     "name": "stdout",
     "output_type": "stream",
     "text": [
      "+-------+--------------------+--------------------+\n|movieId|                 tag|           relevance|\n+-------+--------------------+--------------------+\n|    621|         immortality| 0.04425000000000001|\n|    923|             classic|  0.9039999999999999|\n|   6659|unintentionally f...|0.034499999999999975|\n| 110194|           not funny|               0.267|\n|  40723|  exceptional acting| 0.11275000000000002|\n+-------+--------------------+--------------------+\nonly showing top 5 rows\n\n+-------+------------------+------------------+-------+\n|movieId|               tag|         relevance|row_num|\n+-------+------------------+------------------+-------+\n|      1|              toys|           0.99925|      1|\n|      1|computer animation|           0.99875|      2|\n|      1|   kids and family|0.9857499999999999|      3|\n|      1|         animation|0.9842500000000001|      4|\n|      1|              kids|              0.98|      5|\n+-------+------------------+------------------+-------+\nonly showing top 5 rows\n\nroot\n |-- movieId: integer (nullable = true)\n |-- tag: string (nullable = true)\n |-- relevance: string (nullable = true)\n |-- row_num: integer (nullable = false)\n\n+-------+--------------------+--------------------+\n|movieId|               title|            top_tags|\n+-------+--------------------+--------------------+\n|      1|    Toy Story (1995)|[toys, computer a...|\n|      2|      Jumanji (1995)|[adventure, child...|\n|      3|Grumpier Old Men ...|[sequel, funny, g...|\n|      4|Waiting to Exhale...|[chick flick, div...|\n|      5|Father of the Bri...|[sequel, pregnanc...|\n|      6|         Heat (1995)|[crime, heist, ba...|\n|      7|      Sabrina (1995)|[remake, romance,...|\n|      8| Tom and Huck (1995)|[based on a book,...|\n|      9| Sudden Death (1995)|   [action, hostage]|\n|     10|    GoldenEye (1995)|[007 (series), 00...|\n+-------+--------------------+--------------------+\nonly showing top 10 rows\n\n"
     ]
    }
   ],
   "source": [
    "from pyspark.sql.window import Window\n",
    "\n",
    "movie_tag_rel = genomeScores.join(genomeTags,\"tagId\").select(\"movieId\",\"tag\",\"relevance\")\n",
    "movie_tag_rel.show(5)\n",
    "\n",
    "\n",
    "movie_rel = tags.join(movie_tag_rel,[\"movieId\",\"tag\"]).select(\"movieId\",\"tag\",\"relevance\").distinct()\n",
    "movie_rel = movie_rel.withColumn(\"row_num\", sf.row_number().over(Window.partitionBy([\"movieId\"]).orderBy(sf.desc(\"relevance\"))))\n",
    "movie_rel.show(5)\n",
    "movie_rel.printSchema()\n",
    "top_five_tags = movie_rel.filter(movie_rel.row_num<5).groupBy(\"movieId\").agg(sf.collect_list(\"tag\").alias(\"top_tags\"))\n",
    "\n",
    "top_movie_tags = top_five_tags.join(movies,\"movieId\").select(\"movieId\",\"title\",\"top_tags\")\n",
    "\n",
    "top_movie_tags.show(10)\n"
   ]
  },
  {
   "cell_type": "code",
   "execution_count": 0,
   "metadata": {
    "application/vnd.databricks.v1+cell": {
     "cellMetadata": {
      "byteLimit": 2048000,
      "rowLimit": 10000
     },
     "inputWidgets": {},
     "nuid": "a4445af4-14f8-44c3-8cf7-d09b1fc710f9",
     "showTitle": false,
     "title": ""
    }
   },
   "outputs": [],
   "source": [
    "top_movie_tags.write.mode(\"overwrite\").option(\"header\",\"true\").parquet(\"/mnt/movieLens/transformed_data/top_movie_tags\")"
   ]
  }
 ],
 "metadata": {
  "application/vnd.databricks.v1+notebook": {
   "dashboards": [],
   "language": "python",
   "notebookMetadata": {
    "pythonIndentUnit": 4
   },
   "notebookName": "Movie Data transformation",
   "widgets": {}
  }
 },
 "nbformat": 4,
 "nbformat_minor": 0
}
